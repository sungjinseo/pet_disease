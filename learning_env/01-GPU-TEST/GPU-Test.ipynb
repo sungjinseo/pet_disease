{
 "cells": [
  {
   "cell_type": "markdown",
   "id": "engaging-gates",
   "metadata": {},
   "source": [
    "## GPU 드라이버 확인"
   ]
  },
  {
   "cell_type": "code",
   "execution_count": null,
   "id": "brazilian-instruction",
   "metadata": {},
   "outputs": [],
   "source": [
    "!nvidia-smi"
   ]
  },
  {
   "cell_type": "markdown",
   "id": "norwegian-niagara",
   "metadata": {},
   "source": [
    "## TensorFlow"
   ]
  },
  {
   "cell_type": "code",
   "execution_count": 2,
   "id": "possible-instruction",
   "metadata": {},
   "outputs": [
    {
     "name": "stderr",
     "output_type": "stream",
     "text": [
      "2023-01-14 18:46:29.005953: I tensorflow/core/platform/cpu_feature_guard.cc:193] This TensorFlow binary is optimized with oneAPI Deep Neural Network Library (oneDNN) to use the following CPU instructions in performance-critical operations:  AVX2 FMA\n",
      "To enable them in other operations, rebuild TensorFlow with the appropriate compiler flags.\n",
      "2023-01-14 18:46:29.610436: W tensorflow/compiler/xla/stream_executor/platform/default/dso_loader.cc:64] Could not load dynamic library 'libnvinfer.so.7'; dlerror: libnvinfer.so.7: cannot open shared object file: No such file or directory; LD_LIBRARY_PATH: /usr/local/nvidia/lib64:/usr/local/cuda/lib64:/opt/conda/lib\n",
      "2023-01-14 18:46:29.610508: W tensorflow/compiler/xla/stream_executor/platform/default/dso_loader.cc:64] Could not load dynamic library 'libnvinfer_plugin.so.7'; dlerror: libnvinfer_plugin.so.7: cannot open shared object file: No such file or directory; LD_LIBRARY_PATH: /usr/local/nvidia/lib64:/usr/local/cuda/lib64:/opt/conda/lib\n",
      "2023-01-14 18:46:29.610513: W tensorflow/compiler/tf2tensorrt/utils/py_utils.cc:38] TF-TRT Warning: Cannot dlopen some TensorRT libraries. If you would like to use Nvidia GPU with TensorRT, please make sure the missing libraries mentioned above are installed properly.\n"
     ]
    },
    {
     "name": "stdout",
     "output_type": "stream",
     "text": [
      "tf.__version__: 2.11.0\n",
      "PhysicalDevice(name='/physical_device:GPU:0', device_type='GPU')\n",
      "PhysicalDevice(name='/physical_device:GPU:1', device_type='GPU')\n"
     ]
    }
   ],
   "source": [
    "import tensorflow as tf\n",
    "\n",
    "print(f'tf.__version__: {tf.__version__}')\n",
    "\n",
    "gpus = tf.config.experimental.list_physical_devices('GPU')\n",
    "for gpu in gpus:\n",
    "    print(gpu)"
   ]
  },
  {
   "cell_type": "markdown",
   "id": "banned-prairie",
   "metadata": {},
   "source": [
    "## PyTorch"
   ]
  },
  {
   "cell_type": "code",
   "execution_count": 3,
   "id": "contained-works",
   "metadata": {},
   "outputs": [
    {
     "name": "stdout",
     "output_type": "stream",
     "text": [
      "torch.__version__: 1.10.1+cu111\n",
      "GPU 사용여부: True\n",
      "GPU count: 2\n",
      "GPU name: NVIDIA GeForce RTX 3090\n"
     ]
    }
   ],
   "source": [
    "import torch\n",
    "\n",
    "print(f'torch.__version__: {torch.__version__}')\n",
    "\n",
    "print(f'GPU 사용여부: {torch.cuda.is_available()}')\n",
    "gpu_count = torch.cuda.device_count()\n",
    "print(f'GPU count: {gpu_count}')\n",
    "if gpu_count > 0:\n",
    "    print(f'GPU name: {torch.cuda.get_device_name(0)}')"
   ]
  },
  {
   "cell_type": "markdown",
   "id": "disciplinary-monday",
   "metadata": {},
   "source": [
    "## 한글 자연어 처리 패키지"
   ]
  },
  {
   "cell_type": "code",
   "execution_count": 4,
   "id": "alien-legend",
   "metadata": {},
   "outputs": [
    {
     "name": "stdout",
     "output_type": "stream",
     "text": [
      "okt: [('아버지', 'Noun'), ('가방', 'Noun'), ('에', 'Josa'), ('들어가신다', 'Verb'), ('.', 'Punctuation')]\n",
      "kkma: [('아버지', 'Noun'), ('가방', 'Noun'), ('에', 'Josa'), ('들어가신다', 'Verb'), ('.', 'Punctuation')]\n",
      "hannanum: [('아버지가방에들어가', 'N'), ('이', 'J'), ('시ㄴ다', 'E'), ('.', 'S')]\n"
     ]
    }
   ],
   "source": [
    "from konlpy.tag import Okt, Kkma, Hannanum\n",
    "\n",
    "sample_sentence = '아버지가방에들어가신다.'\n",
    "\n",
    "okt = Okt()\n",
    "print(f'okt: {okt.pos(sample_sentence)}')\n",
    "\n",
    "kkma = Kkma()\n",
    "print(f'kkma: {okt.pos(sample_sentence)}')\n",
    "\n",
    "hannanum = Hannanum()\n",
    "print(f'hannanum: {hannanum.pos(sample_sentence)}')"
   ]
  },
  {
   "cell_type": "markdown",
   "id": "guided-academy",
   "metadata": {},
   "source": [
    "## Mecab 추가 설치 확인"
   ]
  },
  {
   "cell_type": "code",
   "execution_count": 5,
   "id": "comfortable-listening",
   "metadata": {},
   "outputs": [
    {
     "name": "stdout",
     "output_type": "stream",
     "text": [
      "mecab: [('아버지', 'NNG'), ('가', 'JKS'), ('방', 'NNG'), ('에', 'JKB'), ('들어가', 'VV'), ('신다', 'EP+EF'), ('.', 'SF')]\n"
     ]
    }
   ],
   "source": [
    "from konlpy.tag import Mecab\n",
    "\n",
    "sample_sentence = '아버지가방에들어가신다.'\n",
    "\n",
    "mecab = Mecab()\n",
    "print(f'mecab: {mecab.pos(sample_sentence)}')"
   ]
  },
  {
   "cell_type": "markdown",
   "id": "marine-baseline",
   "metadata": {},
   "source": [
    "## 머신러닝 패키지 확인"
   ]
  },
  {
   "cell_type": "code",
   "execution_count": 6,
   "id": "duplicate-victorian",
   "metadata": {},
   "outputs": [
    {
     "name": "stdout",
     "output_type": "stream",
     "text": [
      "lightgbm: 3.3.4\n",
      "xgboost: 2.0.0-dev\n",
      "sklearn: 1.2.0\n"
     ]
    }
   ],
   "source": [
    "import sklearn\n",
    "import lightgbm\n",
    "import xgboost\n",
    "\n",
    "print(f'lightgbm: {lightgbm.__version__}\\nxgboost: {xgboost.__version__}\\nsklearn: {sklearn.__version__}')"
   ]
  },
  {
   "cell_type": "markdown",
   "id": "synthetic-atlanta",
   "metadata": {},
   "source": [
    "## 한글 폰트 시각화 확인"
   ]
  },
  {
   "cell_type": "code",
   "execution_count": 7,
   "id": "automatic-interaction",
   "metadata": {},
   "outputs": [
    {
     "name": "stdout",
     "output_type": "stream",
     "text": [
      "matplotlib: 3.6.3\n",
      "pandas: 1.5.2\n"
     ]
    }
   ],
   "source": [
    "import matplotlib\n",
    "import matplotlib.pyplot as plt\n",
    "import pandas as pd\n",
    "\n",
    "print(f'matplotlib: {matplotlib.__version__}')\n",
    "print(f'pandas: {pd.__version__}')\n",
    "\n",
    "# Unicode warning 제거 (폰트 관련 경고메시지)\n",
    "plt.rcParams['axes.unicode_minus']=False\n",
    "\n",
    "# 그래프 출력 사이즈 설정\n",
    "plt.rcParams[\"figure.figsize\"] = (10, 6)"
   ]
  },
  {
   "cell_type": "code",
   "execution_count": 8,
   "id": "formal-dayton",
   "metadata": {},
   "outputs": [
    {
     "data": {
      "image/png": "[encoded data removed]",
      "text/plain": [
       "<Figure size 1000x600 with 1 Axes>"
      ]
     },
     "metadata": {},
     "output_type": "display_data"
    }
   ],
   "source": [
    "# NanumGothic\n",
    "plt.rcParams['font.family'] = \"NanumGothic\"\n",
    "data = {\n",
    "    '한글테스트': [10, 20, 30, 40, 50]\n",
    "}\n",
    "pd.DataFrame(data).plot(kind='bar')\n",
    "plt.title('한글 폰트 테스트', fontsize=15)\n",
    "plt.show()"
   ]
  },
  {
   "cell_type": "code",
   "execution_count": 9,
   "id": "considered-calvin",
   "metadata": {},
   "outputs": [
    {
     "data": {
      "image/png": "[encoded data removed]",
      "text/plain": [
       "<Figure size 1000x600 with 1 Axes>"
      ]
     },
     "metadata": {},
     "output_type": "display_data"
    }
   ],
   "source": [
    "# NanumSquare\n",
    "plt.rcParams['font.family'] = \"NanumSquare\"\n",
    "data = {\n",
    "    '한글테스트': [10, 20, 30, 40, 50]\n",
    "}\n",
    "pd.DataFrame(data).plot(kind='bar')\n",
    "plt.title('한글 폰트 테스트', fontsize=15)\n",
    "plt.show()"
   ]
  },
  {
   "cell_type": "markdown",
   "id": "subtle-poker",
   "metadata": {},
   "source": [
    "## XGBoost CPU & GPU 학습시간 비교"
   ]
  },
  {
   "cell_type": "code",
   "execution_count": 10,
   "id": "precious-values",
   "metadata": {},
   "outputs": [
    {
     "name": "stdout",
     "output_type": "stream",
     "text": [
      "xgb (cpu): 소요시간: 39.177695751190186 초\n",
      "xgb (gpu): 소요시간: 3.4368841648101807 초\n"
     ]
    }
   ],
   "source": [
    "import time\n",
    "from sklearn.datasets import make_regression\n",
    "from xgboost import XGBRegressor\n",
    "\n",
    "def model_test(model_name, model):\n",
    "    x, y = make_regression(n_samples=100000, n_features=100)\n",
    "    \n",
    "    start_time = time.time()\n",
    "    model.fit(x, y)\n",
    "    end_time = time.time()\n",
    "    return f'{model_name}: 소요시간: {(end_time - start_time)} 초'\n",
    "\n",
    "xgb = XGBRegressor(n_estimators=1000, \n",
    "                   learning_rate=0.01, \n",
    "                   subsample=0.8, \n",
    "                   colsample_bytree=0.8,\n",
    "                   objective='reg:squarederror', \n",
    "                   n_jobs=-1,\n",
    "                  )\n",
    "\n",
    "print(model_test('xgb (cpu)', xgb))\n",
    "\n",
    "xgb = XGBRegressor(n_estimators=1000, \n",
    "                   learning_rate=0.01, \n",
    "                   subsample=0.8, \n",
    "                   colsample_bytree=0.8,\n",
    "                   objective='reg:squarederror', \n",
    "                   tree_method='gpu_hist')\n",
    "\n",
    "print(model_test('xgb (gpu)', xgb))"
   ]
  },
  {
   "cell_type": "code",
   "execution_count": 11,
   "id": "psychological-payment",
   "metadata": {},
   "outputs": [
    {
     "name": "stdout",
     "output_type": "stream",
     "text": [
      "lgbm (cpu): 소요시간: 11.226160526275635 초\n",
      "lgbm (gpu): 소요시간: 21.859968662261963 초\n"
     ]
    }
   ],
   "source": [
    "import time\n",
    "from sklearn.datasets import make_regression\n",
    "from lightgbm import LGBMRegressor\n",
    "\n",
    "def model_test(model_name, model):\n",
    "    x, y = make_regression(n_samples=10000, n_features=100)\n",
    "    \n",
    "    start_time = time.time()\n",
    "    model.fit(x, y)\n",
    "    end_time = time.time()\n",
    "    return f'{model_name}: 소요시간: {(end_time - start_time)} 초'\n",
    "\n",
    "lgbm = LGBMRegressor(n_estimators=5000, \n",
    "                     learning_rate=0.01, \n",
    "                     subsample=0.8, \n",
    "                     colsample_bytree=0.8,\n",
    "                     n_jobs=-1,\n",
    "                    )\n",
    "\n",
    "print(model_test('lgbm (cpu)', lgbm))\n",
    "\n",
    "lgbm = LGBMRegressor(n_estimators=5000, \n",
    "                     learning_rate=0.01, \n",
    "                     subsample=0.8, \n",
    "                     colsample_bytree=0.8,\n",
    "                     boosting_type='gbdt', \n",
    "                     device='gpu'\n",
    "                    )\n",
    "\n",
    "print(model_test('lgbm (gpu)', lgbm))"
   ]
  },
  {
   "cell_type": "code",
   "execution_count": 12,
   "id": "3bd1235e",
   "metadata": {},
   "outputs": [],
   "source": [
    "# wordcloud, prophet 정상 설치 여부 확인\n",
    "import wordcloud\n",
    "import prophet"
   ]
  },
  {
   "cell_type": "code",
   "execution_count": 13,
   "id": "varied-queue",
   "metadata": {
    "scrolled": false
   },
   "outputs": [
    {
     "name": "stderr",
     "output_type": "stream",
     "text": [
      "2023-01-14 18:48:07.110235: W tensorflow/core/platform/cloud/google_auth_provider.cc:184] All attempts to get a Google authentication bearer token failed, returning an empty token. Retrieving token from files failed with \"NOT_FOUND: Could not locate the credentials file.\". Retrieving token from GCE failed with \"FAILED_PRECONDITION: Error executing an HTTP request: libcurl code 6 meaning 'Couldn't resolve host name', error details: Could not resolve host: metadata\".\n"
     ]
    },
    {
     "name": "stdout",
     "output_type": "stream",
     "text": [
      "\u001b[1mDownloading and preparing dataset 153.59 MiB (download: 153.59 MiB, generated: Unknown size, total: 153.59 MiB) to /root/tensorflow_datasets/horses_or_humans/3.0.0...\u001b[0m\n"
     ]
    },
    {
     "data": {
      "application/vnd.jupyter.widget-view+json": {
       "model_id": "5983e58140534026bfc16b4b43b291cf",
       "version_major": 2,
       "version_minor": 0
      },
      "text/plain": [
       "Dl Completed...: 0 url [00:00, ? url/s]"
      ]
     },
     "metadata": {},
     "output_type": "display_data"
    },
    {
     "data": {
      "application/vnd.jupyter.widget-view+json": {
       "model_id": "de0d16038881447f9e576cf5ad71ce7e",
       "version_major": 2,
       "version_minor": 0
      },
      "text/plain": [
       "Dl Size...: 0 MiB [00:00, ? MiB/s]"
      ]
     },
     "metadata": {},
     "output_type": "display_data"
    },
    {
     "data": {
      "application/vnd.jupyter.widget-view+json": {
       "model_id": "",
       "version_major": 2,
       "version_minor": 0
      },
      "text/plain": [
       "Generating splits...:   0%|          | 0/2 [00:00<?, ? splits/s]"
      ]
     },
     "metadata": {},
     "output_type": "display_data"
    },
    {
     "data": {
      "application/vnd.jupyter.widget-view+json": {
       "model_id": "",
       "version_major": 2,
       "version_minor": 0
      },
      "text/plain": [
       "Generating train examples...:   0%|          | 0/1027 [00:00<?, ? examples/s]"
      ]
     },
     "metadata": {},
     "output_type": "display_data"
    },
    {
     "data": {
      "application/vnd.jupyter.widget-view+json": {
       "model_id": "",
       "version_major": 2,
       "version_minor": 0
      },
      "text/plain": [
       "Shuffling /root/tensorflow_datasets/horses_or_humans/3.0.0.incompleteWTS5YP/horses_or_humans-train.tfrecord*..…"
      ]
     },
     "metadata": {},
     "output_type": "display_data"
    },
    {
     "data": {
      "application/vnd.jupyter.widget-view+json": {
       "model_id": "",
       "version_major": 2,
       "version_minor": 0
      },
      "text/plain": [
       "Generating test examples...:   0%|          | 0/256 [00:00<?, ? examples/s]"
      ]
     },
     "metadata": {},
     "output_type": "display_data"
    },
    {
     "data": {
      "application/vnd.jupyter.widget-view+json": {
       "model_id": "",
       "version_major": 2,
       "version_minor": 0
      },
      "text/plain": [
       "Shuffling /root/tensorflow_datasets/horses_or_humans/3.0.0.incompleteWTS5YP/horses_or_humans-test.tfrecord*...…"
      ]
     },
     "metadata": {},
     "output_type": "display_data"
    },
    {
     "name": "stdout",
     "output_type": "stream",
     "text": [
      "\u001b[1mDataset horses_or_humans downloaded and prepared to /root/tensorflow_datasets/horses_or_humans/3.0.0. Subsequent calls will reuse this data.\u001b[0m\n"
     ]
    },
    {
     "name": "stderr",
     "output_type": "stream",
     "text": [
      "2023-01-14 18:48:21.905183: I tensorflow/core/platform/cpu_feature_guard.cc:193] This TensorFlow binary is optimized with oneAPI Deep Neural Network Library (oneDNN) to use the following CPU instructions in performance-critical operations:  AVX2 FMA\n",
      "To enable them in other operations, rebuild TensorFlow with the appropriate compiler flags.\n",
      "2023-01-14 18:48:22.667796: I tensorflow/core/common_runtime/gpu/gpu_device.cc:1613] Created device /job:localhost/replica:0/task:0/device:GPU:0 with 22198 MB memory:  -> device: 0, name: NVIDIA GeForce RTX 3090, pci bus id: 0000:21:00.0, compute capability: 8.6\n",
      "2023-01-14 18:48:22.668837: I tensorflow/core/common_runtime/gpu/gpu_device.cc:1613] Created device /job:localhost/replica:0/task:0/device:GPU:1 with 22288 MB memory:  -> device: 1, name: NVIDIA GeForce RTX 3090, pci bus id: 0000:49:00.0, compute capability: 8.6\n"
     ]
    },
    {
     "name": "stdout",
     "output_type": "stream",
     "text": [
      "Downloading data from https://storage.googleapis.com/tensorflow/keras-applications/vgg16/vgg16_weights_tf_dim_ordering_tf_kernels_notop.h5\n",
      "58889256/58889256 [==============================] - 1s 0us/step\n",
      "Epoch 1/20\n"
     ]
    },
    {
     "name": "stderr",
     "output_type": "stream",
     "text": [
      "2023-01-14 18:48:34.390359: I tensorflow/compiler/xla/stream_executor/cuda/cuda_dnn.cc:428] Loaded cuDNN version 8101\n",
      "2023-01-14 18:48:37.197868: I tensorflow/compiler/xla/stream_executor/cuda/cuda_blas.cc:630] TensorFloat-32 will be used for the matrix multiplication. This will only be logged once.\n",
      "2023-01-14 18:48:37.334735: I tensorflow/compiler/xla/service/service.cc:173] XLA service 0x7f0724eeeb70 initialized for platform CUDA (this does not guarantee that XLA will be used). Devices:\n",
      "2023-01-14 18:48:37.334752: I tensorflow/compiler/xla/service/service.cc:181]   StreamExecutor device (0): NVIDIA GeForce RTX 3090, Compute Capability 8.6\n",
      "2023-01-14 18:48:37.334756: I tensorflow/compiler/xla/service/service.cc:181]   StreamExecutor device (1): NVIDIA GeForce RTX 3090, Compute Capability 8.6\n",
      "2023-01-14 18:48:37.338386: I tensorflow/compiler/mlir/tensorflow/utils/dump_mlir_util.cc:268] disabling MLIR crash reproducer, set env var `MLIR_CRASH_REPRODUCER_DIRECTORY` to enable.\n",
      "2023-01-14 18:48:37.441906: I tensorflow/compiler/jit/xla_compilation_cache.cc:477] Compiled cluster using XLA!  This line is logged at most once for the lifetime of the process.\n"
     ]
    },
    {
     "name": "stdout",
     "output_type": "stream",
     "text": [
      "26/26 [==============================] - ETA: 0s - loss: 0.8977 - acc: 0.8491\n",
      "Epoch 1: val_loss improved from inf to 0.03146, saving model to my_checkpoint.ckpt\n",
      "26/26 [==============================] - 19s 343ms/step - loss: 0.8977 - acc: 0.8491 - val_loss: 0.0315 - val_acc: 0.9805\n",
      "Epoch 2/20\n",
      "25/26 [===========================>..] - ETA: 0s - loss: 0.0182 - acc: 0.9937\n",
      "Epoch 2: val_loss improved from 0.03146 to 0.01113, saving model to my_checkpoint.ckpt\n",
      "26/26 [==============================] - 2s 91ms/step - loss: 0.0177 - acc: 0.9939 - val_loss: 0.0111 - val_acc: 0.9951\n",
      "Epoch 3/20\n",
      "25/26 [===========================>..] - ETA: 0s - loss: 0.0028 - acc: 1.0000\n",
      "Epoch 3: val_loss did not improve from 0.01113\n",
      "26/26 [==============================] - 1s 39ms/step - loss: 0.0028 - acc: 1.0000 - val_loss: 0.0344 - val_acc: 0.9854\n",
      "Epoch 4/20\n",
      "25/26 [===========================>..] - ETA: 0s - loss: 0.0036 - acc: 0.9987\n",
      "Epoch 4: val_loss did not improve from 0.01113\n",
      "26/26 [==============================] - 1s 39ms/step - loss: 0.0035 - acc: 0.9988 - val_loss: 0.0160 - val_acc: 0.9951\n",
      "Epoch 5/20\n",
      "25/26 [===========================>..] - ETA: 0s - loss: 6.1761e-04 - acc: 1.0000\n",
      "Epoch 5: val_loss improved from 0.01113 to 0.00494, saving model to my_checkpoint.ckpt\n",
      "26/26 [==============================] - 2s 89ms/step - loss: 6.7149e-04 - acc: 1.0000 - val_loss: 0.0049 - val_acc: 0.9951\n",
      "Epoch 6/20\n",
      "25/26 [===========================>..] - ETA: 0s - loss: 3.0498e-04 - acc: 1.0000\n",
      "Epoch 6: val_loss did not improve from 0.00494\n",
      "26/26 [==============================] - 1s 39ms/step - loss: 3.0041e-04 - acc: 1.0000 - val_loss: 0.0082 - val_acc: 0.9951\n",
      "Epoch 7/20\n",
      "25/26 [===========================>..] - ETA: 0s - loss: 2.5360e-04 - acc: 1.0000\n",
      "Epoch 7: val_loss did not improve from 0.00494\n",
      "26/26 [==============================] - 1s 39ms/step - loss: 2.5380e-04 - acc: 1.0000 - val_loss: 0.0066 - val_acc: 0.9951\n",
      "Epoch 8/20\n",
      "25/26 [===========================>..] - ETA: 0s - loss: 1.4790e-04 - acc: 1.0000\n",
      "Epoch 8: val_loss did not improve from 0.00494\n",
      "26/26 [==============================] - 1s 39ms/step - loss: 1.4714e-04 - acc: 1.0000 - val_loss: 0.0053 - val_acc: 0.9951\n",
      "Epoch 9/20\n",
      "25/26 [===========================>..] - ETA: 0s - loss: 1.4129e-04 - acc: 1.0000\n",
      "Epoch 9: val_loss improved from 0.00494 to 0.00484, saving model to my_checkpoint.ckpt\n",
      "26/26 [==============================] - 2s 90ms/step - loss: 1.3953e-04 - acc: 1.0000 - val_loss: 0.0048 - val_acc: 0.9951\n",
      "Epoch 10/20\n",
      "25/26 [===========================>..] - ETA: 0s - loss: 1.8937e-04 - acc: 1.0000\n",
      "Epoch 10: val_loss did not improve from 0.00484\n",
      "26/26 [==============================] - 1s 39ms/step - loss: 1.8553e-04 - acc: 1.0000 - val_loss: 0.0050 - val_acc: 0.9951\n",
      "Epoch 11/20\n",
      "25/26 [===========================>..] - ETA: 0s - loss: 1.1655e-04 - acc: 1.0000\n",
      "Epoch 11: val_loss did not improve from 0.00484\n",
      "26/26 [==============================] - 1s 39ms/step - loss: 1.2759e-04 - acc: 1.0000 - val_loss: 0.0055 - val_acc: 0.9951\n",
      "Epoch 12/20\n",
      "25/26 [===========================>..] - ETA: 0s - loss: 9.8391e-05 - acc: 1.0000\n",
      "Epoch 12: val_loss did not improve from 0.00484\n",
      "26/26 [==============================] - 1s 39ms/step - loss: 1.0219e-04 - acc: 1.0000 - val_loss: 0.0054 - val_acc: 0.9951\n",
      "Epoch 13/20\n",
      "25/26 [===========================>..] - ETA: 0s - loss: 7.4162e-05 - acc: 1.0000\n",
      "Epoch 13: val_loss improved from 0.00484 to 0.00461, saving model to my_checkpoint.ckpt\n",
      "26/26 [==============================] - 2s 91ms/step - loss: 7.3485e-05 - acc: 1.0000 - val_loss: 0.0046 - val_acc: 0.9951\n",
      "Epoch 14/20\n",
      "25/26 [===========================>..] - ETA: 0s - loss: 9.2088e-05 - acc: 1.0000\n",
      "Epoch 14: val_loss did not improve from 0.00461\n",
      "26/26 [==============================] - 1s 39ms/step - loss: 9.3311e-05 - acc: 1.0000 - val_loss: 0.0050 - val_acc: 0.9951\n",
      "Epoch 15/20\n",
      "25/26 [===========================>..] - ETA: 0s - loss: 1.0921e-04 - acc: 1.0000\n",
      "Epoch 15: val_loss improved from 0.00461 to 0.00349, saving model to my_checkpoint.ckpt\n",
      "26/26 [==============================] - 2s 94ms/step - loss: 1.0829e-04 - acc: 1.0000 - val_loss: 0.0035 - val_acc: 1.0000\n",
      "Epoch 16/20\n",
      "25/26 [===========================>..] - ETA: 0s - loss: 1.0205e-04 - acc: 1.0000\n",
      "Epoch 16: val_loss did not improve from 0.00349\n",
      "26/26 [==============================] - 1s 39ms/step - loss: 1.0164e-04 - acc: 1.0000 - val_loss: 0.0067 - val_acc: 0.9951\n",
      "Epoch 17/20\n",
      "25/26 [===========================>..] - ETA: 0s - loss: 8.0415e-05 - acc: 1.0000\n",
      "Epoch 17: val_loss did not improve from 0.00349\n",
      "26/26 [==============================] - 1s 39ms/step - loss: 8.0539e-05 - acc: 1.0000 - val_loss: 0.0057 - val_acc: 0.9951\n",
      "Epoch 18/20\n",
      "25/26 [===========================>..] - ETA: 0s - loss: 4.8771e-05 - acc: 1.0000\n",
      "Epoch 18: val_loss did not improve from 0.00349\n",
      "26/26 [==============================] - 1s 39ms/step - loss: 4.8811e-05 - acc: 1.0000 - val_loss: 0.0046 - val_acc: 0.9951\n",
      "Epoch 19/20\n",
      "25/26 [===========================>..] - ETA: 0s - loss: 7.6459e-05 - acc: 1.0000\n",
      "Epoch 19: val_loss improved from 0.00349 to 0.00198, saving model to my_checkpoint.ckpt\n",
      "26/26 [==============================] - 2s 88ms/step - loss: 7.4874e-05 - acc: 1.0000 - val_loss: 0.0020 - val_acc: 1.0000\n",
      "Epoch 20/20\n",
      "25/26 [===========================>..] - ETA: 0s - loss: 4.0325e-05 - acc: 1.0000\n",
      "Epoch 20: val_loss did not improve from 0.00198\n",
      "26/26 [==============================] - 1s 39ms/step - loss: 4.0206e-05 - acc: 1.0000 - val_loss: 0.0034 - val_acc: 1.0000\n"
     ]
    },
    {
     "data": {
      "text/plain": [
       "<keras.callbacks.History at 0x7f18fc26ec70>"
      ]
     },
     "execution_count": 13,
     "metadata": {},
     "output_type": "execute_result"
    }
   ],
   "source": [
    "import tensorflow_datasets as tfds\n",
    "import tensorflow as tf\n",
    "\n",
    "from tensorflow.keras.layers import Dense, Conv2D, MaxPooling2D, Flatten, Dropout\n",
    "from tensorflow.keras.models import Sequential\n",
    "from tensorflow.keras.callbacks import ModelCheckpoint\n",
    "from tensorflow.keras.applications import VGG16\n",
    "import warnings\n",
    "\n",
    "warnings.filterwarnings('ignore')\n",
    "\n",
    "dataset_name = 'horses_or_humans'\n",
    "\n",
    "# 처음 80%의 데이터만 사용\n",
    "train_dataset = tfds.load(name=dataset_name, split='train[:80%]')\n",
    "\n",
    "# 최근 20%의 데이터만 사용\n",
    "valid_dataset = tfds.load(name=dataset_name, split='train[80%:]')\n",
    "\n",
    "def preprocess(data):\n",
    "    # x, y 데이터를 정의합니다.\n",
    "    x = data['image']\n",
    "    y = data['label']\n",
    "    # image 정규화(Normalization)\n",
    "    x = x / 255\n",
    "    # 사이즈를 (224, 224)로 변환합니다.\n",
    "    x = tf.image.resize(x, size=(224, 224))\n",
    "    # x, y  데이터를 return 합니다.\n",
    "    return x, y\n",
    "\n",
    "batch_size=32\n",
    "\n",
    "train_data = train_dataset.map(preprocess).batch(batch_size)\n",
    "valid_data = valid_dataset.map(preprocess).batch(batch_size)\n",
    "\n",
    "transfer_model = VGG16(weights='imagenet', include_top=False, input_shape=(224, 224, 3))\n",
    "transfer_model.trainable=False\n",
    "\n",
    "model = Sequential([\n",
    "    transfer_model,\n",
    "    Flatten(),\n",
    "    Dropout(0.5),\n",
    "    Dense(512, activation='relu'),\n",
    "    Dense(128, activation='relu'),\n",
    "    Dense(2, activation='softmax'),\n",
    "])\n",
    "\n",
    "model.compile(optimizer='adam', loss='sparse_categorical_crossentropy', metrics=['acc'])\n",
    "\n",
    "checkpoint_path = \"my_checkpoint.ckpt\"\n",
    "checkpoint = ModelCheckpoint(filepath=checkpoint_path, \n",
    "                             save_weights_only=True, \n",
    "                             save_best_only=True, \n",
    "                             monitor='val_loss', \n",
    "                             verbose=1)\n",
    "\n",
    "model.fit(train_data,\n",
    "          validation_data=(valid_data),\n",
    "          epochs=20,\n",
    "          callbacks=[checkpoint],\n",
    "          )"
   ]
  },
  {
   "cell_type": "code",
   "execution_count": 15,
   "id": "13c6367b",
   "metadata": {},
   "outputs": [
    {
     "name": "stdout",
     "output_type": "stream",
     "text": [
      "Files already downloaded and verified\n",
      "Files already downloaded and verified\n"
     ]
    },
    {
     "data": {
      "image/png": "[encoded data removed]",
      "text/plain": [
       "<Figure size 1000x600 with 1 Axes>"
      ]
     },
     "metadata": {},
     "output_type": "display_data"
    },
    {
     "name": "stdout",
     "output_type": "stream",
     "text": [
      "horse   car  bird   cat\n"
     ]
    }
   ],
   "source": [
    "import torch\n",
    "import torchvision\n",
    "import torchvision.transforms as transforms\n",
    "\n",
    "transform = transforms.Compose(\n",
    "    [transforms.ToTensor(),\n",
    "     transforms.Normalize((0.5, 0.5, 0.5), (0.5, 0.5, 0.5))])\n",
    "\n",
    "batch_size = 4\n",
    "\n",
    "trainset = torchvision.datasets.CIFAR10(root='./data', train=True,\n",
    "                                        download=True, transform=transform)\n",
    "trainloader = torch.utils.data.DataLoader(trainset, batch_size=batch_size,\n",
    "                                          shuffle=True, num_workers=2)\n",
    "\n",
    "testset = torchvision.datasets.CIFAR10(root='./data', train=False,\n",
    "                                       download=True, transform=transform)\n",
    "testloader = torch.utils.data.DataLoader(testset, batch_size=batch_size,\n",
    "                                         shuffle=False, num_workers=2)\n",
    "\n",
    "classes = ('plane', 'car', 'bird', 'cat',\n",
    "           'deer', 'dog', 'frog', 'horse', 'ship', 'truck')\n",
    "\n",
    "import matplotlib.pyplot as plt\n",
    "import numpy as np\n",
    "\n",
    "# functions to show an image\n",
    "\n",
    "\n",
    "def imshow(img):\n",
    "    img = img / 2 + 0.5     # unnormalize\n",
    "    npimg = img.numpy()\n",
    "    plt.imshow(np.transpose(npimg, (1, 2, 0)))\n",
    "    plt.show()\n",
    "\n",
    "\n",
    "# get some random training images\n",
    "dataiter = iter(trainloader)\n",
    "images, labels = dataiter.next()\n",
    "\n",
    "# show images\n",
    "imshow(torchvision.utils.make_grid(images))\n",
    "# print labels\n",
    "print(' '.join('%5s' % classes[labels[j]] for j in range(batch_size)))"
   ]
  },
  {
   "cell_type": "code",
   "execution_count": 16,
   "id": "developed-tribe",
   "metadata": {},
   "outputs": [
    {
     "name": "stdout",
     "output_type": "stream",
     "text": [
      "[1,  2000] loss: 2.223\n",
      "[1,  4000] loss: 1.873\n",
      "[1,  6000] loss: 1.697\n",
      "[1,  8000] loss: 1.593\n",
      "[1, 10000] loss: 1.531\n",
      "[1, 12000] loss: 1.479\n",
      "[2,  2000] loss: 1.417\n",
      "[2,  4000] loss: 1.401\n",
      "[2,  6000] loss: 1.361\n",
      "[2,  8000] loss: 1.359\n",
      "[2, 10000] loss: 1.316\n",
      "[2, 12000] loss: 1.298\n",
      "Finished Training\n"
     ]
    }
   ],
   "source": [
    "import torch.nn as nn\n",
    "import torch.nn.functional as F\n",
    "import torch.optim as optim\n",
    "\n",
    "class Net(nn.Module):\n",
    "    def __init__(self):\n",
    "        super().__init__()\n",
    "        self.conv1 = nn.Conv2d(3, 6, 5)\n",
    "        self.pool = nn.MaxPool2d(2, 2)\n",
    "        self.conv2 = nn.Conv2d(6, 16, 5)\n",
    "        self.fc1 = nn.Linear(16 * 5 * 5, 120)\n",
    "        self.fc2 = nn.Linear(120, 84)\n",
    "        self.fc3 = nn.Linear(84, 10)\n",
    "\n",
    "    def forward(self, x):\n",
    "        x = self.pool(F.relu(self.conv1(x)))\n",
    "        x = self.pool(F.relu(self.conv2(x)))\n",
    "        x = torch.flatten(x, 1) # flatten all dimensions except batch\n",
    "        x = F.relu(self.fc1(x))\n",
    "        x = F.relu(self.fc2(x))\n",
    "        x = self.fc3(x)\n",
    "        return x\n",
    "\n",
    "\n",
    "net = Net()\n",
    "\n",
    "criterion = nn.CrossEntropyLoss()\n",
    "optimizer = optim.SGD(net.parameters(), lr=0.001, momentum=0.9)\n",
    "\n",
    "for epoch in range(2):  # loop over the dataset multiple times\n",
    "\n",
    "    running_loss = 0.0\n",
    "    for i, data in enumerate(trainloader, 0):\n",
    "        # get the inputs; data is a list of [inputs, labels]\n",
    "        inputs, labels = data\n",
    "\n",
    "        # zero the parameter gradients\n",
    "        optimizer.zero_grad()\n",
    "\n",
    "        # forward + backward + optimize\n",
    "        outputs = net(inputs)\n",
    "        loss = criterion(outputs, labels)\n",
    "        loss.backward()\n",
    "        optimizer.step()\n",
    "\n",
    "        # print statistics\n",
    "        running_loss += loss.item()\n",
    "        if i % 2000 == 1999:    # print every 2000 mini-batches\n",
    "            print('[%d, %5d] loss: %.3f' %\n",
    "                  (epoch + 1, i + 1, running_loss / 2000))\n",
    "            running_loss = 0.0\n",
    "\n",
    "print('Finished Training')\n",
    "\n",
    "PATH = './cifar_net.pth'\n",
    "torch.save(net.state_dict(), PATH)"
   ]
  }
 ],
 "metadata": {
  "kernelspec": {
   "display_name": "Python 3 (ipykernel)",
   "language": "python",
   "name": "python3"
  },
  "language_info": {
   "codemirror_mode": {
    "name": "ipython",
    "version": 3
   },
   "file_extension": ".py",
   "mimetype": "text/x-python",
   "name": "python",
   "nbconvert_exporter": "python",
   "pygments_lexer": "ipython3",
   "version": "3.8.15"
  }
 },
 "nbformat": 4,
 "nbformat_minor": 5
}
