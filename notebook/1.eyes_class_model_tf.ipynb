{
 "cells": [
  {
   "cell_type": "code",
   "execution_count": 3,
   "id": "97951e16-3b42-458f-aaf2-8b5ccba8726b",
   "metadata": {
    "tags": []
   },
   "outputs": [],
   "source": [
    "from modules.efficientNet_ops_3 import *\n",
    "\n",
    "train_path = root_dir = '/home/jupyter/workspace/eyes/train/' #경로 마지막에 반드시 '/'를 기입해야합니다.\n",
    "model_name = 'efficientnet'\n",
    "epoch = 10"
   ]
  },
  {
   "cell_type": "code",
   "execution_count": 4,
   "id": "3d1e09a5-330f-4a6a-b7a6-8af5e7658778",
   "metadata": {
    "tags": []
   },
   "outputs": [
    {
     "name": "stderr",
     "output_type": "stream",
     "text": [
      "/opt/conda/envs/py39/lib/python3.9/site-packages/keras/preprocessing/image.py:1297: UserWarning: This ImageDataGenerator specifies `featurewise_std_normalization`, which overrides setting of `featurewise_center`.\n",
      "  warnings.warn('This ImageDataGenerator specifies '\n"
     ]
    },
    {
     "name": "stdout",
     "output_type": "stream",
     "text": [
      "Found 1660 images belonging to 11 classes.\n",
      "Found 232 images belonging to 11 classes.\n"
     ]
    },
    {
     "name": "stderr",
     "output_type": "stream",
     "text": [
      "2023-05-02 14:59:14.062677: I tensorflow/stream_executor/cuda/cuda_gpu_executor.cc:961] could not open file to read NUMA node: /sys/bus/pci/devices/0000:01:00.0/numa_node\n",
      "Your kernel may have been built without NUMA support.\n",
      "2023-05-02 14:59:14.087024: I tensorflow/stream_executor/cuda/cuda_gpu_executor.cc:961] could not open file to read NUMA node: /sys/bus/pci/devices/0000:01:00.0/numa_node\n",
      "Your kernel may have been built without NUMA support.\n",
      "2023-05-02 14:59:14.087522: I tensorflow/stream_executor/cuda/cuda_gpu_executor.cc:961] could not open file to read NUMA node: /sys/bus/pci/devices/0000:01:00.0/numa_node\n",
      "Your kernel may have been built without NUMA support.\n",
      "2023-05-02 14:59:14.088275: I tensorflow/core/platform/cpu_feature_guard.cc:193] This TensorFlow binary is optimized with oneAPI Deep Neural Network Library (oneDNN) to use the following CPU instructions in performance-critical operations:  AVX2 FMA\n",
      "To enable them in other operations, rebuild TensorFlow with the appropriate compiler flags.\n",
      "2023-05-02 14:59:14.089239: I tensorflow/stream_executor/cuda/cuda_gpu_executor.cc:961] could not open file to read NUMA node: /sys/bus/pci/devices/0000:01:00.0/numa_node\n",
      "Your kernel may have been built without NUMA support.\n",
      "2023-05-02 14:59:14.089713: I tensorflow/stream_executor/cuda/cuda_gpu_executor.cc:961] could not open file to read NUMA node: /sys/bus/pci/devices/0000:01:00.0/numa_node\n",
      "Your kernel may have been built without NUMA support.\n",
      "2023-05-02 14:59:14.090119: I tensorflow/stream_executor/cuda/cuda_gpu_executor.cc:961] could not open file to read NUMA node: /sys/bus/pci/devices/0000:01:00.0/numa_node\n",
      "Your kernel may have been built without NUMA support.\n",
      "2023-05-02 14:59:14.752332: I tensorflow/stream_executor/cuda/cuda_gpu_executor.cc:961] could not open file to read NUMA node: /sys/bus/pci/devices/0000:01:00.0/numa_node\n",
      "Your kernel may have been built without NUMA support.\n",
      "2023-05-02 14:59:14.752572: I tensorflow/stream_executor/cuda/cuda_gpu_executor.cc:961] could not open file to read NUMA node: /sys/bus/pci/devices/0000:01:00.0/numa_node\n",
      "Your kernel may have been built without NUMA support.\n",
      "2023-05-02 14:59:14.752582: I tensorflow/core/common_runtime/gpu/gpu_device.cc:1616] Could not identify NUMA node of platform GPU id 0, defaulting to 0.  Your kernel may not have been built with NUMA support.\n",
      "2023-05-02 14:59:14.752758: I tensorflow/stream_executor/cuda/cuda_gpu_executor.cc:961] could not open file to read NUMA node: /sys/bus/pci/devices/0000:01:00.0/numa_node\n",
      "Your kernel may have been built without NUMA support.\n",
      "2023-05-02 14:59:14.752792: I tensorflow/core/common_runtime/gpu/gpu_device.cc:1532] Created device /job:localhost/replica:0/task:0/device:GPU:0 with 6398 MB memory:  -> device: 0, name: NVIDIA GeForce GTX 1080, pci bus id: 0000:01:00.0, compute capability: 6.1\n"
     ]
    },
    {
     "name": "stdout",
     "output_type": "stream",
     "text": [
      "Model: \"sequential\"\n",
      "_________________________________________________________________\n",
      " Layer (type)                Output Shape              Param #   \n",
      "=================================================================\n",
      " efficientnetb0 (Functional)  (None, 1280)             4049571   \n",
      "                                                                 \n",
      " dense (Dense)               (None, 2048)              2623488   \n",
      "                                                                 \n",
      " dense_1 (Dense)             (None, 11)                22539     \n",
      "                                                                 \n",
      "=================================================================\n",
      "Total params: 6,695,598\n",
      "Trainable params: 6,653,575\n",
      "Non-trainable params: 42,023\n",
      "_________________________________________________________________\n"
     ]
    },
    {
     "name": "stderr",
     "output_type": "stream",
     "text": [
      "/home/jupyter/pet_disease/notebook/modules/efficientNet_ops_3.py:191: UserWarning: `Model.fit_generator` is deprecated and will be removed in a future version. Please use `Model.fit`, which supports generators.\n",
      "  history = model.fit_generator(\n",
      "/opt/conda/envs/py39/lib/python3.9/site-packages/keras/preprocessing/image.py:1663: UserWarning: This ImageDataGenerator specifies `featurewise_center`, but it hasn't been fit on any training data. Fit it first by calling `.fit(numpy_data)`.\n",
      "  warnings.warn('This ImageDataGenerator specifies '\n",
      "/opt/conda/envs/py39/lib/python3.9/site-packages/keras/preprocessing/image.py:1671: UserWarning: This ImageDataGenerator specifies `featurewise_std_normalization`, but it hasn't been fit on any training data. Fit it first by calling `.fit(numpy_data)`.\n",
      "  warnings.warn('This ImageDataGenerator specifies '\n"
     ]
    },
    {
     "name": "stdout",
     "output_type": "stream",
     "text": [
      "Epoch 1/10\n"
     ]
    },
    {
     "name": "stderr",
     "output_type": "stream",
     "text": [
      "2023-05-02 14:59:25.332863: I tensorflow/stream_executor/cuda/cuda_dnn.cc:384] Loaded cuDNN version 8700\n"
     ]
    },
    {
     "name": "stdout",
     "output_type": "stream",
     "text": [
      "104/103 [==============================] - ETA: 0s - loss: 2.1181 - acc: 0.2602\n",
      "Epoch 1: val_acc improved from -inf to 0.30172, saving model to ./model_saved/eyes/efficientnet_10/model-001-0.260241-0.301724.h5\n",
      "103/103 [==============================] - 38s 292ms/step - loss: 2.1181 - acc: 0.2602 - val_loss: 2.0088 - val_acc: 0.3017\n",
      "Epoch 2/10\n",
      "104/103 [==============================] - ETA: 0s - loss: 1.6179 - acc: 0.4343\n",
      "Epoch 2: val_acc did not improve from 0.30172\n",
      "103/103 [==============================] - 28s 266ms/step - loss: 1.6179 - acc: 0.4343 - val_loss: 2.0596 - val_acc: 0.2629\n",
      "Epoch 3/10\n",
      "104/103 [==============================] - ETA: 0s - loss: 1.5442 - acc: 0.4608\n",
      "Epoch 3: val_acc did not improve from 0.30172\n",
      "103/103 [==============================] - 28s 268ms/step - loss: 1.5442 - acc: 0.4608 - val_loss: 2.3202 - val_acc: 0.2543\n",
      "Epoch 4/10\n",
      "104/103 [==============================] - ETA: 0s - loss: 1.4702 - acc: 0.4825\n",
      "Epoch 4: val_acc improved from 0.30172 to 0.30603, saving model to ./model_saved/eyes/efficientnet_10/model-004-0.482530-0.306034.h5\n",
      "103/103 [==============================] - 29s 276ms/step - loss: 1.4702 - acc: 0.4825 - val_loss: 2.0750 - val_acc: 0.3060\n",
      "Epoch 5/10\n",
      "104/103 [==============================] - ETA: 0s - loss: 1.4726 - acc: 0.4789\n",
      "Epoch 5: val_acc did not improve from 0.30603\n",
      "103/103 [==============================] - 29s 281ms/step - loss: 1.4726 - acc: 0.4789 - val_loss: 3.3198 - val_acc: 0.2328\n",
      "Epoch 6/10\n",
      "104/103 [==============================] - ETA: 0s - loss: 1.4653 - acc: 0.4801\n",
      "Epoch 6: val_acc did not improve from 0.30603\n",
      "103/103 [==============================] - 28s 268ms/step - loss: 1.4653 - acc: 0.4801 - val_loss: 3.2591 - val_acc: 0.2802\n",
      "Epoch 7/10\n",
      "104/103 [==============================] - ETA: 0s - loss: 1.4455 - acc: 0.4946\n",
      "Epoch 7: val_acc did not improve from 0.30603\n",
      "103/103 [==============================] - 29s 278ms/step - loss: 1.4455 - acc: 0.4946 - val_loss: 4.4013 - val_acc: 0.1552\n",
      "Epoch 8/10\n",
      "104/103 [==============================] - ETA: 0s - loss: 1.4929 - acc: 0.4705\n",
      "Epoch 8: val_acc did not improve from 0.30603\n",
      "103/103 [==============================] - 28s 272ms/step - loss: 1.4929 - acc: 0.4705 - val_loss: 3.5008 - val_acc: 0.2716\n",
      "Epoch 9/10\n",
      "104/103 [==============================] - ETA: 0s - loss: 1.4684 - acc: 0.4741\n",
      "Epoch 9: val_acc did not improve from 0.30603\n",
      "103/103 [==============================] - 29s 274ms/step - loss: 1.4684 - acc: 0.4741 - val_loss: 3.8117 - val_acc: 0.1422\n",
      "Epoch 10/10\n",
      "104/103 [==============================] - ETA: 0s - loss: 1.4821 - acc: 0.4669\n",
      "Epoch 10: val_acc did not improve from 0.30603\n",
      "103/103 [==============================] - 28s 271ms/step - loss: 1.4821 - acc: 0.4669 - val_loss: 4.0035 - val_acc: 0.0991\n"
     ]
    },
    {
     "name": "stderr",
     "output_type": "stream",
     "text": [
      "2023-05-02 15:04:13.455110: I tensorflow/stream_executor/cuda/cuda_gpu_executor.cc:961] could not open file to read NUMA node: /sys/bus/pci/devices/0000:01:00.0/numa_node\n",
      "Your kernel may have been built without NUMA support.\n",
      "2023-05-02 15:04:13.455561: I tensorflow/stream_executor/cuda/cuda_gpu_executor.cc:961] could not open file to read NUMA node: /sys/bus/pci/devices/0000:01:00.0/numa_node\n",
      "Your kernel may have been built without NUMA support.\n",
      "2023-05-02 15:04:13.455926: I tensorflow/stream_executor/cuda/cuda_gpu_executor.cc:961] could not open file to read NUMA node: /sys/bus/pci/devices/0000:01:00.0/numa_node\n",
      "Your kernel may have been built without NUMA support.\n",
      "2023-05-02 15:04:13.456439: I tensorflow/stream_executor/cuda/cuda_gpu_executor.cc:961] could not open file to read NUMA node: /sys/bus/pci/devices/0000:01:00.0/numa_node\n",
      "Your kernel may have been built without NUMA support.\n",
      "2023-05-02 15:04:13.456451: I tensorflow/core/common_runtime/gpu/gpu_device.cc:1616] Could not identify NUMA node of platform GPU id 0, defaulting to 0.  Your kernel may not have been built with NUMA support.\n",
      "2023-05-02 15:04:13.456811: I tensorflow/stream_executor/cuda/cuda_gpu_executor.cc:961] could not open file to read NUMA node: /sys/bus/pci/devices/0000:01:00.0/numa_node\n",
      "Your kernel may have been built without NUMA support.\n",
      "2023-05-02 15:04:13.456834: I tensorflow/core/common_runtime/gpu/gpu_device.cc:1532] Created device /device:GPU:0 with 6398 MB memory:  -> device: 0, name: NVIDIA GeForce GTX 1080, pci bus id: 0000:01:00.0, compute capability: 6.1\n"
     ]
    },
    {
     "data": {
      "text/plain": [
       "[name: \"/device:CPU:0\"\n",
       " device_type: \"CPU\"\n",
       " memory_limit: 268435456\n",
       " locality {\n",
       " }\n",
       " incarnation: 7057737359731185462\n",
       " xla_global_id: -1,\n",
       " name: \"/device:GPU:0\"\n",
       " device_type: \"GPU\"\n",
       " memory_limit: 6709657600\n",
       " locality {\n",
       "   bus_id: 1\n",
       "   links {\n",
       "   }\n",
       " }\n",
       " incarnation: 10301580005760348978\n",
       " physical_device_desc: \"device: 0, name: NVIDIA GeForce GTX 1080, pci bus id: 0000:01:00.0, compute capability: 6.1\"\n",
       " xla_global_id: 416903419]"
      ]
     },
     "execution_count": 4,
     "metadata": {},
     "output_type": "execute_result"
    },
    {
     "data": {
      "image/png": "[encoded data removed]",
      "text/plain": [
       "<Figure size 640x480 with 1 Axes>"
      ]
     },
     "metadata": {},
     "output_type": "display_data"
    }
   ],
   "source": [
    "fine_tunning = Fine_tunning(train_path=train_path,\n",
    "                                model_name=model_name,\n",
    "                                epoch=epoch)\n",
    "model, history = fine_tunning.training()\n",
    "fine_tunning.save_accuracy(history)\n",
    "\n",
    "from tensorflow.python.client import device_lib\n",
    "device_lib.list_local_devices()"
   ]
  }
 ],
 "metadata": {
  "kernelspec": {
   "display_name": "Python 3 (ipykernel)",
   "language": "python",
   "name": "python3"
  },
  "language_info": {
   "codemirror_mode": {
    "name": "ipython",
    "version": 3
   },
   "file_extension": ".py",
   "mimetype": "text/x-python",
   "name": "python",
   "nbconvert_exporter": "python",
   "pygments_lexer": "ipython3",
   "version": "3.9.16"
  }
 },
 "nbformat": 4,
 "nbformat_minor": 5
}
