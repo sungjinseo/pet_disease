{
 "cells": [
  {
   "cell_type": "code",
   "execution_count": 1,
   "id": "d4db93e9-52f4-4f92-8585-b4da67423540",
   "metadata": {
    "execution": {
     "iopub.execute_input": "2023-05-02T07:25:31.898901Z",
     "iopub.status.busy": "2023-05-02T07:25:31.898662Z",
     "iopub.status.idle": "2023-05-02T07:25:38.035643Z",
     "shell.execute_reply": "2023-05-02T07:25:38.034878Z"
    },
    "papermill": {
     "duration": 6.143677,
     "end_time": "2023-05-02T07:25:38.037135",
     "exception": false,
     "start_time": "2023-05-02T07:25:31.893458",
     "status": "completed"
    },
    "tags": []
   },
   "outputs": [
    {
     "name": "stderr",
     "output_type": "stream",
     "text": [
      "2023-05-02 16:25:33.969036: I tensorflow/stream_executor/cuda/cuda_gpu_executor.cc:961] could not open file to read NUMA node: /sys/bus/pci/devices/0000:01:00.0/numa_node\n",
      "Your kernel may have been built without NUMA support.\n",
      "2023-05-02 16:25:33.988169: I tensorflow/stream_executor/cuda/cuda_gpu_executor.cc:961] could not open file to read NUMA node: /sys/bus/pci/devices/0000:01:00.0/numa_node\n",
      "Your kernel may have been built without NUMA support.\n",
      "2023-05-02 16:25:33.988454: I tensorflow/stream_executor/cuda/cuda_gpu_executor.cc:961] could not open file to read NUMA node: /sys/bus/pci/devices/0000:01:00.0/numa_node\n",
      "Your kernel may have been built without NUMA support.\n",
      "2023-05-02 16:25:33.989438: I tensorflow/core/platform/cpu_feature_guard.cc:193] This TensorFlow binary is optimized with oneAPI Deep Neural Network Library (oneDNN) to use the following CPU instructions in performance-critical operations:  AVX2 FMA\n",
      "To enable them in other operations, rebuild TensorFlow with the appropriate compiler flags.\n",
      "2023-05-02 16:25:33.990607: I tensorflow/stream_executor/cuda/cuda_gpu_executor.cc:961] could not open file to read NUMA node: /sys/bus/pci/devices/0000:01:00.0/numa_node\n",
      "Your kernel may have been built without NUMA support.\n",
      "2023-05-02 16:25:33.990874: I tensorflow/stream_executor/cuda/cuda_gpu_executor.cc:961] could not open file to read NUMA node: /sys/bus/pci/devices/0000:01:00.0/numa_node\n",
      "Your kernel may have been built without NUMA support.\n",
      "2023-05-02 16:25:33.991119: I tensorflow/stream_executor/cuda/cuda_gpu_executor.cc:961] could not open file to read NUMA node: /sys/bus/pci/devices/0000:01:00.0/numa_node\n",
      "Your kernel may have been built without NUMA support.\n",
      "2023-05-02 16:25:34.660162: I tensorflow/stream_executor/cuda/cuda_gpu_executor.cc:961] could not open file to read NUMA node: /sys/bus/pci/devices/0000:01:00.0/numa_node\n",
      "Your kernel may have been built without NUMA support.\n",
      "2023-05-02 16:25:34.660418: I tensorflow/stream_executor/cuda/cuda_gpu_executor.cc:961] could not open file to read NUMA node: /sys/bus/pci/devices/0000:01:00.0/numa_node\n",
      "Your kernel may have been built without NUMA support.\n",
      "2023-05-02 16:25:34.660428: I tensorflow/core/common_runtime/gpu/gpu_device.cc:1616] Could not identify NUMA node of platform GPU id 0, defaulting to 0.  Your kernel may not have been built with NUMA support.\n",
      "2023-05-02 16:25:34.660612: I tensorflow/stream_executor/cuda/cuda_gpu_executor.cc:961] could not open file to read NUMA node: /sys/bus/pci/devices/0000:01:00.0/numa_node\n",
      "Your kernel may have been built without NUMA support.\n",
      "2023-05-02 16:25:34.660642: I tensorflow/core/common_runtime/gpu/gpu_device.cc:1532] Created device /job:localhost/replica:0/task:0/device:GPU:0 with 2834 MB memory:  -> device: 0, name: NVIDIA GeForce GTX 1080, pci bus id: 0000:01:00.0, compute capability: 6.1\n"
     ]
    }
   ],
   "source": [
    "import json\n",
    "import requests\n",
    "from PIL import Image\n",
    "from tensorflow.keras.utils import img_to_array\n",
    "import numpy as np\n",
    "import tensorflow as tf\n",
    "\n",
    "def prepare_image(src_img, target):\n",
    "    if src_img.mode != \"RGB\":\n",
    "        src_img = src_img.convert(\"RGB\")\n",
    "    src_img = src_img.resize(target)\n",
    "\n",
    "    src_img = img_to_array(src_img)\n",
    "    src_img = np.expand_dims(src_img, axis=0)\n",
    "\n",
    "    return src_img\n",
    "\n",
    "pb_path = \"./model_saved/tf/eyes/efficientnet_5/efficientnet.h5\"\n",
    "model = tf.keras.models.load_model(pb_path)"
   ]
  },
  {
   "cell_type": "code",
   "execution_count": null,
   "id": "a7c20349-71b0-49bd-b857-a176cd997adf",
   "metadata": {
    "papermill": {
     "duration": 0.862388,
     "end_time": "2023-05-02T07:25:38.903994",
     "exception": false,
     "start_time": "2023-05-02T07:25:38.041606",
     "status": "completed"
    },
    "tags": []
   },
   "outputs": [],
   "source": [
    "!git add /home/jupyter/pet_disease/"
   ]
  },
  {
   "cell_type": "code",
   "execution_count": null,
   "id": "43383d2b-1bfc-40c8-a01c-60f7119178ac",
   "metadata": {},
   "outputs": [],
   "source": []
  },
  {
   "cell_type": "code",
   "execution_count": 3,
   "id": "7599b5ab-ba74-4307-8d62-e09244d9c77f",
   "metadata": {
    "execution": {
     "iopub.execute_input": "2023-05-02T07:25:38.917588Z",
     "iopub.status.busy": "2023-05-02T07:25:38.917326Z",
     "iopub.status.idle": "2023-05-02T07:25:40.551392Z",
     "shell.execute_reply": "2023-05-02T07:25:40.547339Z"
    },
    "papermill": {
     "duration": 1.648745,
     "end_time": "2023-05-02T07:25:40.557722",
     "exception": false,
     "start_time": "2023-05-02T07:25:38.908977",
     "status": "completed"
    },
    "tags": []
   },
   "outputs": [
    {
     "name": "stdout",
     "output_type": "stream",
     "text": [
      "[master 82ff415] 날짜 + acc + val_acc 등의 정보를 커밋 할 것임\n",
      " 17 files changed, 4978 insertions(+), 439 deletions(-)\n",
      " rewrite notebook/2.load_eyes_model.ipynb (68%)\n",
      " copy notebook/{2.load_eyes_model.ipynb => 3.request_model_test.ipynb} (66%)\n",
      " create mode 100644 notebook/model_saved/eyes/efficientnet_10/accuracy.csv\n",
      " create mode 100644 notebook/model_saved/eyes/efficientnet_10/accuracy.png\n",
      " create mode 100644 notebook/model_saved/eyes/efficientnet_10/loss.png\n",
      " rewrite notebook/model_saved/tf/eyes/efficientnet_10/accuracy.csv (90%)\n",
      " rewrite notebook/model_saved/tf/eyes/efficientnet_10/accuracy.png (98%)\n",
      " rewrite notebook/model_saved/tf/eyes/efficientnet_10/loss.png (99%)\n",
      " create mode 100644 notebook/model_saved/tf/eyes/efficientnet_5/accuracy.csv\n",
      " create mode 100644 notebook/model_saved/tf/eyes/efficientnet_5/accuracy.png\n",
      " create mode 100644 notebook/model_saved/tf/eyes/efficientnet_5/loss.png\n"
     ]
    }
   ],
   "source": [
    "!git commit -m \"날짜 + acc + val_acc 등의 정보를 커밋 할 것임\""
   ]
  }
 ],
 "metadata": {
  "kernelspec": {
   "display_name": "Python 3 (ipykernel)",
   "language": "python",
   "name": "python3"
  },
  "language_info": {
   "codemirror_mode": {
    "name": "ipython",
    "version": 3
   },
   "file_extension": ".py",
   "mimetype": "text/x-python",
   "name": "python",
   "nbconvert_exporter": "python",
   "pygments_lexer": "ipython3",
   "version": "3.9.16"
  },
  "papermill": {
   "default_parameters": {},
   "duration": null,
   "end_time": null,
   "environment_variables": {},
   "exception": null,
   "input_path": "/home/jupyter/pet_disease/notebook/2.load_eyes_model.ipynb",
   "output_path": "/home/jupyter/pet_disease/notebook/2.load_eyes_model.ipynb",
   "parameters": {},
   "start_time": "2023-05-02T07:25:30.866085",
   "version": "2.4.0"
  }
 },
 "nbformat": 4,
 "nbformat_minor": 5
}
