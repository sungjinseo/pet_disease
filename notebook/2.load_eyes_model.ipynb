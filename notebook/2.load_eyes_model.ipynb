{
 "cells": [
  {
   "cell_type": "code",
   "execution_count": 1,
   "id": "d4db93e9-52f4-4f92-8585-b4da67423540",
   "metadata": {
    "execution": {
     "iopub.execute_input": "2023-05-02T07:34:59.685840Z",
     "iopub.status.busy": "2023-05-02T07:34:59.682619Z",
     "iopub.status.idle": "2023-05-02T07:35:05.640806Z",
     "shell.execute_reply": "2023-05-02T07:35:05.640079Z"
    },
    "papermill": {
     "duration": 5.981085,
     "end_time": "2023-05-02T07:35:05.642294",
     "exception": false,
     "start_time": "2023-05-02T07:34:59.661209",
     "status": "completed"
    },
    "tags": []
   },
   "outputs": [
    {
     "name": "stderr",
     "output_type": "stream",
     "text": [
      "2023-05-02 16:35:01.833716: I tensorflow/stream_executor/cuda/cuda_gpu_executor.cc:961] could not open file to read NUMA node: /sys/bus/pci/devices/0000:01:00.0/numa_node\n",
      "Your kernel may have been built without NUMA support.\n"
     ]
    },
    {
     "name": "stderr",
     "output_type": "stream",
     "text": [
      "2023-05-02 16:35:01.846619: I tensorflow/stream_executor/cuda/cuda_gpu_executor.cc:961] could not open file to read NUMA node: /sys/bus/pci/devices/0000:01:00.0/numa_node\n",
      "Your kernel may have been built without NUMA support.\n",
      "2023-05-02 16:35:01.846971: I tensorflow/stream_executor/cuda/cuda_gpu_executor.cc:961] could not open file to read NUMA node: /sys/bus/pci/devices/0000:01:00.0/numa_node\n",
      "Your kernel may have been built without NUMA support.\n",
      "2023-05-02 16:35:01.848011: I tensorflow/core/platform/cpu_feature_guard.cc:193] This TensorFlow binary is optimized with oneAPI Deep Neural Network Library (oneDNN) to use the following CPU instructions in performance-critical operations:  AVX2 FMA\n",
      "To enable them in other operations, rebuild TensorFlow with the appropriate compiler flags.\n",
      "2023-05-02 16:35:01.848985: I tensorflow/stream_executor/cuda/cuda_gpu_executor.cc:961] could not open file to read NUMA node: /sys/bus/pci/devices/0000:01:00.0/numa_node\n",
      "Your kernel may have been built without NUMA support.\n",
      "2023-05-02 16:35:01.849267: I tensorflow/stream_executor/cuda/cuda_gpu_executor.cc:961] could not open file to read NUMA node: /sys/bus/pci/devices/0000:01:00.0/numa_node\n",
      "Your kernel may have been built without NUMA support.\n",
      "2023-05-02 16:35:01.849520: I tensorflow/stream_executor/cuda/cuda_gpu_executor.cc:961] could not open file to read NUMA node: /sys/bus/pci/devices/0000:01:00.0/numa_node\n",
      "Your kernel may have been built without NUMA support.\n",
      "2023-05-02 16:35:02.486813: I tensorflow/stream_executor/cuda/cuda_gpu_executor.cc:961] could not open file to read NUMA node: /sys/bus/pci/devices/0000:01:00.0/numa_node\n",
      "Your kernel may have been built without NUMA support.\n",
      "2023-05-02 16:35:02.487108: I tensorflow/stream_executor/cuda/cuda_gpu_executor.cc:961] could not open file to read NUMA node: /sys/bus/pci/devices/0000:01:00.0/numa_node\n",
      "Your kernel may have been built without NUMA support.\n",
      "2023-05-02 16:35:02.487121: I tensorflow/core/common_runtime/gpu/gpu_device.cc:1616] Could not identify NUMA node of platform GPU id 0, defaulting to 0.  Your kernel may not have been built with NUMA support.\n",
      "2023-05-02 16:35:02.487391: I tensorflow/stream_executor/cuda/cuda_gpu_executor.cc:961] could not open file to read NUMA node: /sys/bus/pci/devices/0000:01:00.0/numa_node\n",
      "Your kernel may have been built without NUMA support.\n",
      "2023-05-02 16:35:02.487424: I tensorflow/core/common_runtime/gpu/gpu_device.cc:1532] Created device /job:localhost/replica:0/task:0/device:GPU:0 with 6576 MB memory:  -> device: 0, name: NVIDIA GeForce GTX 1080, pci bus id: 0000:01:00.0, compute capability: 6.1\n"
     ]
    }
   ],
   "source": [
    "import json\n",
    "import requests\n",
    "from PIL import Image\n",
    "from tensorflow.keras.utils import img_to_array\n",
    "import numpy as np\n",
    "import tensorflow as tf\n",
    "\n",
    "def prepare_image(src_img, target):\n",
    "    if src_img.mode != \"RGB\":\n",
    "        src_img = src_img.convert(\"RGB\")\n",
    "    src_img = src_img.resize(target)\n",
    "\n",
    "    src_img = img_to_array(src_img)\n",
    "    src_img = np.expand_dims(src_img, axis=0)\n",
    "\n",
    "    return src_img\n",
    "\n",
    "pb_path = \"./model_saved/tf/eyes/efficientnet_5/efficientnet.h5\"\n",
    "model = tf.keras.models.load_model(pb_path)"
   ]
  },
  {
   "cell_type": "code",
   "execution_count": 2,
   "id": "a7c20349-71b0-49bd-b857-a176cd997adf",
   "metadata": {
    "execution": {
     "iopub.execute_input": "2023-05-02T07:35:05.654133Z",
     "iopub.status.busy": "2023-05-02T07:35:05.653897Z",
     "iopub.status.idle": "2023-05-02T07:35:06.692916Z",
     "shell.execute_reply": "2023-05-02T07:35:06.688659Z"
    },
    "papermill": {
     "duration": 1.051747,
     "end_time": "2023-05-02T07:35:06.698651",
     "exception": false,
     "start_time": "2023-05-02T07:35:05.646904",
     "status": "completed"
    },
    "tags": []
   },
   "outputs": [],
   "source": [
    "!git add /home/jupyter/pet_disease/"
   ]
  },
  {
   "cell_type": "code",
   "execution_count": 3,
   "id": "7599b5ab-ba74-4307-8d62-e09244d9c77f",
   "metadata": {
    "execution": {
     "iopub.execute_input": "2023-05-02T07:35:06.736878Z",
     "iopub.status.busy": "2023-05-02T07:35:06.735892Z",
     "iopub.status.idle": "2023-05-02T07:35:07.979205Z",
     "shell.execute_reply": "2023-05-02T07:35:07.976999Z"
    },
    "papermill": {
     "duration": 1.270043,
     "end_time": "2023-05-02T07:35:07.983068",
     "exception": false,
     "start_time": "2023-05-02T07:35:06.713025",
     "status": "completed"
    },
    "tags": []
   },
   "outputs": [
    {
     "name": "stdout",
     "output_type": "stream",
     "text": [
      "[master 87900f4] 날짜 + acc + val_acc 등의 정보를 커밋 할 것임\r\n"
     ]
    },
    {
     "name": "stdout",
     "output_type": "stream",
     "text": [
      " 7 files changed, 738 insertions(+), 662 deletions(-)\r\n",
      " rewrite notebook/model_saved/tf/eyes/efficientnet_5/accuracy.png (97%)\r\n",
      " rewrite notebook/model_saved/tf/eyes/efficientnet_5/loss.png (99%)\r\n"
     ]
    }
   ],
   "source": [
    "!git commit -m \"날짜 + acc + val_acc 등의 정보를 커밋 할 것임\""
   ]
  },
  {
   "cell_type": "code",
   "execution_count": 4,
   "id": "24591eb2-1d61-4c11-a4db-7e4fb8ca48c5",
   "metadata": {
    "execution": {
     "iopub.execute_input": "2023-05-02T07:35:08.002227Z",
     "iopub.status.busy": "2023-05-02T07:35:08.001885Z",
     "iopub.status.idle": "2023-05-02T07:35:10.750163Z",
     "shell.execute_reply": "2023-05-02T07:35:10.748604Z"
    },
    "papermill": {
     "duration": 2.760643,
     "end_time": "2023-05-02T07:35:10.752335",
     "exception": false,
     "start_time": "2023-05-02T07:35:07.991692",
     "status": "completed"
    },
    "tags": []
   },
   "outputs": [
    {
     "name": "stdout",
     "output_type": "stream",
     "text": [
      "Enumerating objects: 29, done.\r\n",
      "Counting objects:   3% (1/29)\r",
      "Counting objects:   6% (2/29)\r",
      "Counting objects:  10% (3/29)\r",
      "Counting objects:  13% (4/29)\r",
      "Counting objects:  17% (5/29)\r"
     ]
    },
    {
     "name": "stdout",
     "output_type": "stream",
     "text": [
      "Counting objects:  20% (6/29)\r",
      "Counting objects:  24% (7/29)\r",
      "Counting objects:  27% (8/29)\r",
      "Counting objects:  31% (9/29)\r",
      "Counting objects:  34% (10/29)\r",
      "Counting objects:  37% (11/29)\r",
      "Counting objects:  41% (12/29)\r",
      "Counting objects:  44% (13/29)\r",
      "Counting objects:  48% (14/29)\r",
      "Counting objects:  51% (15/29)\r",
      "Counting objects:  55% (16/29)\r",
      "Counting objects:  58% (17/29)\r",
      "Counting objects:  62% (18/29)\r"
     ]
    },
    {
     "name": "stdout",
     "output_type": "stream",
     "text": [
      "Counting objects:  65% (19/29)\r",
      "Counting objects:  68% (20/29)\r",
      "Counting objects:  72% (21/29)\r",
      "Counting objects:  75% (22/29)\r",
      "Counting objects:  79% (23/29)\r",
      "Counting objects:  82% (24/29)\r",
      "Counting objects:  86% (25/29)\r",
      "Counting objects:  89% (26/29)\r",
      "Counting objects:  93% (27/29)\r",
      "Counting objects:  96% (28/29)\r",
      "Counting objects: 100% (29/29)\r",
      "Counting objects: 100% (29/29), done.\r\n",
      "Delta compression using up to 8 threads\r\n",
      "Compressing objects:   7% (1/14)\r",
      "Compressing objects:  14% (2/14)\r"
     ]
    },
    {
     "name": "stdout",
     "output_type": "stream",
     "text": [
      "Compressing objects:  21% (3/14)\r",
      "Compressing objects:  28% (4/14)\r",
      "Compressing objects:  35% (5/14)\r",
      "Compressing objects:  42% (6/14)\r",
      "Compressing objects:  50% (7/14)\r",
      "Compressing objects:  57% (8/14)\r"
     ]
    },
    {
     "name": "stdout",
     "output_type": "stream",
     "text": [
      "Compressing objects:  64% (9/14)\r",
      "Compressing objects:  71% (10/14)\r",
      "Compressing objects:  78% (11/14)\r",
      "Compressing objects:  85% (12/14)\r",
      "Compressing objects:  92% (13/14)\r",
      "Compressing objects: 100% (14/14)\r",
      "Compressing objects: 100% (14/14), done.\r\n"
     ]
    },
    {
     "name": "stdout",
     "output_type": "stream",
     "text": [
      "Writing objects:   6% (1/15)\r",
      "Writing objects:  13% (2/15)\r",
      "Writing objects:  20% (3/15)\r",
      "Writing objects:  26% (4/15)\r",
      "Writing objects:  33% (5/15)\r",
      "Writing objects:  40% (6/15)\r",
      "Writing objects:  46% (7/15)\r",
      "Writing objects:  53% (8/15)\r",
      "Writing objects:  60% (9/15)\r",
      "Writing objects:  66% (10/15)\r",
      "Writing objects:  73% (11/15)\r",
      "Writing objects:  80% (12/15)\r"
     ]
    },
    {
     "name": "stdout",
     "output_type": "stream",
     "text": [
      "Writing objects:  86% (13/15)\r",
      "Writing objects:  93% (14/15)\r",
      "Writing objects: 100% (15/15)\r",
      "Writing objects: 100% (15/15), 53.45 KiB | 855.00 KiB/s, done.\r\n",
      "Total 15 (delta 5), reused 0 (delta 0)\r\n"
     ]
    },
    {
     "name": "stdout",
     "output_type": "stream",
     "text": [
      "remote: Resolving deltas:   0% (0/5)\u001b[K\r",
      "remote: Resolving deltas:  20% (1/5)\u001b[K\r",
      "remote: Resolving deltas:  40% (2/5)\u001b[K\r"
     ]
    },
    {
     "name": "stdout",
     "output_type": "stream",
     "text": [
      "remote: Resolving deltas:  60% (3/5)\u001b[K\r",
      "remote: Resolving deltas:  80% (4/5)\u001b[K\r",
      "remote: Resolving deltas: 100% (5/5)\u001b[K\r",
      "remote: Resolving deltas: 100% (5/5), completed with 5 local objects.\u001b[K\r\n"
     ]
    },
    {
     "name": "stdout",
     "output_type": "stream",
     "text": [
      "To https://github.com/sungjinseo/pet_disease.git\r\n",
      "   ac4cd5f..87900f4  master -> master\r\n"
     ]
    }
   ],
   "source": [
    "!git push"
   ]
  }
 ],
 "metadata": {
  "kernelspec": {
   "display_name": "Python 3 (ipykernel)",
   "language": "python",
   "name": "python3"
  },
  "language_info": {
   "codemirror_mode": {
    "name": "ipython",
    "version": 3
   },
   "file_extension": ".py",
   "mimetype": "text/x-python",
   "name": "python",
   "nbconvert_exporter": "python",
   "pygments_lexer": "ipython3",
   "version": "3.9.16"
  },
  "papermill": {
   "default_parameters": {},
   "duration": 15.036787,
   "end_time": "2023-05-02T07:35:13.740101",
   "environment_variables": {},
   "exception": null,
   "input_path": "/home/jupyter/pet_disease/notebook/2.load_eyes_model.ipynb",
   "output_path": "/home/jupyter/pet_disease/notebook/2.load_eyes_model.ipynb",
   "parameters": {},
   "start_time": "2023-05-02T07:34:58.703314",
   "version": "2.4.0"
  }
 },
 "nbformat": 4,
 "nbformat_minor": 5
}