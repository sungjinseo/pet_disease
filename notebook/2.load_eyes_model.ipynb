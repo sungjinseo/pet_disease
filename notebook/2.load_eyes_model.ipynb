{
 "cells": [
  {
   "cell_type": "code",
   "execution_count": null,
   "id": "d4db93e9-52f4-4f92-8585-b4da67423540",
   "metadata": {},
   "outputs": [],
   "source": [
    "import json\n",
    "import requests\n",
    "from PIL import Image\n",
    "from tensorflow.keras.utils import img_to_array\n",
    "import numpy as np\n",
    "import tensorflow as tf\n",
    "\n",
    "def prepare_image(src_img, target):\n",
    "\tif src_img.mode != \"RGB\":\n",
    "\t\tsrc_img = src_img.convert(\"RGB\")\n",
    "\tsrc_img = src_img.resize(target)\n",
    "\n",
    "\tsrc_img = img_to_array(src_img)\n",
    "\tsrc_img = np.expand_dims(src_img, axis=0)\n",
    "\n",
    "\treturn src_img\n",
    "\n",
    "pb_path = \"./model_saved/tf/eyes/efficientnet_10/model-003-0.481325-0.366379.h5\"\n",
    "model = tf.keras.models.load_model(pb_path)"
   ]
  },
  {
   "cell_type": "code",
   "execution_count": null,
   "id": "a7c20349-71b0-49bd-b857-a176cd997adf",
   "metadata": {},
   "outputs": [],
   "source": [
    "img_path = \"crop_D0_0c8b3399-60a5-11ec-8402-0a7404972c70.png\"\n",
    "src_image = prepare_image(Image.open(img_path), target=(224, 224))\n",
    "model.predict(src_image.tolist())"
   ]
  },
  {
   "cell_type": "code",
   "execution_count": null,
   "id": "189a5cf4-03ed-4b28-a5ff-3f4841080e7b",
   "metadata": {},
   "outputs": [],
   "source": [
    "import io\n",
    "import base64\n",
    "import requests\n",
    "from PIL import Image\n",
    "\n",
    "# FastAPI URL\n",
    "url = \"http://localhost:5000/image\"\n",
    "# 요청\n",
    "result = requests.get(url)\n",
    "# 딕셔너리 변환\n",
    "res = json.loads(result.content)\n",
    "# 이미지 Bytes 리스트\n",
    "bytes_list = list(map(lambda x: base64.b64decode(x), res))\n",
    "# 이미지 Pillow Image 리스트\n",
    "image_list = list(map(lambda x: Image.open(io.BytesIO(x)), bytes_list))\n",
    "image_list[0]"
   ]
  },
  {
   "cell_type": "code",
   "execution_count": null,
   "id": "e1c5eae4-4017-4d52-a3cc-473f55611e31",
   "metadata": {},
   "outputs": [],
   "source": [
    "from fastapi import APIRouter\n",
    "from fastapi.responses import JSONResponse\n",
    "from PIL import Image\n",
    "import requests\n",
    "import base64\n",
    "import io\n",
    "\n",
    "router = APIRouter()\n",
    "\n",
    "def from_image_to_bytes(img):\n",
    "    \"\"\"\n",
    "    pillow image 객체를 bytes로 변환\n",
    "    \"\"\"\n",
    "    # Pillow 이미지 객체를 Bytes로 변환\n",
    "    imgByteArr = io.BytesIO()\n",
    "    img.save(imgByteArr, format=img.format)\n",
    "    imgByteArr = imgByteArr.getvalue()\n",
    "    # Base64로 Bytes를 인코딩\n",
    "    encoded = base64.b64encode(imgByteArr)\n",
    "    # Base64로 ascii로 디코딩\n",
    "    decoded = encoded.decode('ascii')\n",
    "    return decoded\n",
    "\n",
    "@router.get(\"/image/\")\n",
    "async def func():\n",
    "    # 이미지 주소\n",
    "    img_url = \"https://dimg.donga.com/ugc/CDB/WEEKLY/Article/5b/b3/22/85/5bb32285000ed2738de6.jpg\"\n",
    "    # 이미지 불러오기\n",
    "    img = Image.open(requests.get(img_url, stream=True).raw)\n",
    "    # 이미지 데이터 타입 변환\n",
    "    img_converted = from_image_to_bytes(img)\n",
    "    # 이미지 리스트 생성\n",
    "    img_list = [img_converted, img_converted]\n",
    "    return JSONResponse(img_list)"
   ]
  }
 ],
 "metadata": {
  "kernelspec": {
   "display_name": "Python 3 (ipykernel)",
   "language": "python",
   "name": "python3"
  },
  "language_info": {
   "codemirror_mode": {
    "name": "ipython",
    "version": 3
   },
   "file_extension": ".py",
   "mimetype": "text/x-python",
   "name": "python",
   "nbconvert_exporter": "python",
   "pygments_lexer": "ipython3",
   "version": "3.9.16"
  }
 },
 "nbformat": 4,
 "nbformat_minor": 5
}
