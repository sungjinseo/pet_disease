{
 "cells": [
  {
   "cell_type": "code",
   "execution_count": 1,
   "id": "d4db93e9-52f4-4f92-8585-b4da67423540",
   "metadata": {
    "execution": {
     "iopub.execute_input": "2023-05-02T07:34:59.685840Z",
     "iopub.status.busy": "2023-05-02T07:34:59.682619Z",
     "iopub.status.idle": "2023-05-02T07:35:05.640806Z",
     "shell.execute_reply": "2023-05-02T07:35:05.640079Z"
    },
    "papermill": {
     "duration": 5.981085,
     "end_time": "2023-05-02T07:35:05.642294",
     "exception": false,
     "start_time": "2023-05-02T07:34:59.661209",
     "status": "completed"
    },
    "tags": []
   },
   "outputs": [
    {
     "name": "stderr",
     "output_type": "stream",
     "text": [
      "2023-05-02 16:35:01.833716: I tensorflow/stream_executor/cuda/cuda_gpu_executor.cc:961] could not open file to read NUMA node: /sys/bus/pci/devices/0000:01:00.0/numa_node\n",
      "Your kernel may have been built without NUMA support.\n"
     ]
    },
    {
     "name": "stderr",
     "output_type": "stream",
     "text": [
      "2023-05-02 16:35:01.846619: I tensorflow/stream_executor/cuda/cuda_gpu_executor.cc:961] could not open file to read NUMA node: /sys/bus/pci/devices/0000:01:00.0/numa_node\n",
      "Your kernel may have been built without NUMA support.\n",
      "2023-05-02 16:35:01.846971: I tensorflow/stream_executor/cuda/cuda_gpu_executor.cc:961] could not open file to read NUMA node: /sys/bus/pci/devices/0000:01:00.0/numa_node\n",
      "Your kernel may have been built without NUMA support.\n",
      "2023-05-02 16:35:01.848011: I tensorflow/core/platform/cpu_feature_guard.cc:193] This TensorFlow binary is optimized with oneAPI Deep Neural Network Library (oneDNN) to use the following CPU instructions in performance-critical operations:  AVX2 FMA\n",
      "To enable them in other operations, rebuild TensorFlow with the appropriate compiler flags.\n",
      "2023-05-02 16:35:01.848985: I tensorflow/stream_executor/cuda/cuda_gpu_executor.cc:961] could not open file to read NUMA node: /sys/bus/pci/devices/0000:01:00.0/numa_node\n",
      "Your kernel may have been built without NUMA support.\n",
      "2023-05-02 16:35:01.849267: I tensorflow/stream_executor/cuda/cuda_gpu_executor.cc:961] could not open file to read NUMA node: /sys/bus/pci/devices/0000:01:00.0/numa_node\n",
      "Your kernel may have been built without NUMA support.\n",
      "2023-05-02 16:35:01.849520: I tensorflow/stream_executor/cuda/cuda_gpu_executor.cc:961] could not open file to read NUMA node: /sys/bus/pci/devices/0000:01:00.0/numa_node\n",
      "Your kernel may have been built without NUMA support.\n",
      "2023-05-02 16:35:02.486813: I tensorflow/stream_executor/cuda/cuda_gpu_executor.cc:961] could not open file to read NUMA node: /sys/bus/pci/devices/0000:01:00.0/numa_node\n",
      "Your kernel may have been built without NUMA support.\n",
      "2023-05-02 16:35:02.487108: I tensorflow/stream_executor/cuda/cuda_gpu_executor.cc:961] could not open file to read NUMA node: /sys/bus/pci/devices/0000:01:00.0/numa_node\n",
      "Your kernel may have been built without NUMA support.\n",
      "2023-05-02 16:35:02.487121: I tensorflow/core/common_runtime/gpu/gpu_device.cc:1616] Could not identify NUMA node of platform GPU id 0, defaulting to 0.  Your kernel may not have been built with NUMA support.\n",
      "2023-05-02 16:35:02.487391: I tensorflow/stream_executor/cuda/cuda_gpu_executor.cc:961] could not open file to read NUMA node: /sys/bus/pci/devices/0000:01:00.0/numa_node\n",
      "Your kernel may have been built without NUMA support.\n",
      "2023-05-02 16:35:02.487424: I tensorflow/core/common_runtime/gpu/gpu_device.cc:1532] Created device /job:localhost/replica:0/task:0/device:GPU:0 with 6576 MB memory:  -> device: 0, name: NVIDIA GeForce GTX 1080, pci bus id: 0000:01:00.0, compute capability: 6.1\n"
     ]
    }
   ],
   "source": [
    "import json\n",
    "import requests\n",
    "from PIL import Image\n",
    "from tensorflow.keras.utils import img_to_array\n",
    "import numpy as np\n",
    "import tensorflow as tf\n",
    "\n",
    "def prepare_image(src_img, target):\n",
    "    if src_img.mode != \"RGB\":\n",
    "        src_img = src_img.convert(\"RGB\")\n",
    "    src_img = src_img.resize(target)\n",
    "\n",
    "    src_img = img_to_array(src_img)\n",
    "    src_img = np.expand_dims(src_img, axis=0)\n",
    "\n",
    "    return src_img\n",
    "\n",
    "pb_path = \"./model_saved/tf/eyes/efficientnet_5/efficientnet.h5\"\n",
    "model = tf.keras.models.load_model(pb_path)"
   ]
  },
  {
   "cell_type": "code",
   "execution_count": null,
   "id": "a7c20349-71b0-49bd-b857-a176cd997adf",
   "metadata": {
    "execution": {
     "iopub.execute_input": "2023-05-02T07:31:24.239980Z",
     "iopub.status.busy": "2023-05-02T07:31:24.239587Z",
     "iopub.status.idle": "2023-05-02T07:31:25.054281Z",
     "shell.execute_reply": "2023-05-02T07:31:25.050764Z"
    },
    "papermill": {
     "duration": null,
     "end_time": null,
     "exception": false,
     "start_time": "2023-05-02T07:35:05.646904",
     "status": "running"
    },
    "tags": []
   },
   "outputs": [],
   "source": [
    "!git add /home/jupyter/pet_disease/"
   ]
  },
  {
   "cell_type": "code",
   "execution_count": null,
   "id": "7599b5ab-ba74-4307-8d62-e09244d9c77f",
   "metadata": {
    "execution": {
     "iopub.execute_input": "2023-05-02T07:31:25.097907Z",
     "iopub.status.busy": "2023-05-02T07:31:25.096970Z",
     "iopub.status.idle": "2023-05-02T07:31:26.185372Z",
     "shell.execute_reply": "2023-05-02T07:31:26.181501Z"
    },
    "papermill": {
     "duration": null,
     "end_time": null,
     "exception": null,
     "start_time": null,
     "status": "pending"
    },
    "tags": []
   },
   "outputs": [],
   "source": [
    "!git commit -m \"날짜 + acc + val_acc 등의 정보를 커밋 할 것임\""
   ]
  },
  {
   "cell_type": "code",
   "execution_count": null,
   "id": "24591eb2-1d61-4c11-a4db-7e4fb8ca48c5",
   "metadata": {
    "execution": {
     "iopub.execute_input": "2023-05-02T07:31:26.221315Z",
     "iopub.status.busy": "2023-05-02T07:31:26.220960Z",
     "iopub.status.idle": "2023-05-02T07:31:28.514000Z",
     "shell.execute_reply": "2023-05-02T07:31:28.512830Z"
    },
    "papermill": {
     "duration": null,
     "end_time": null,
     "exception": null,
     "start_time": null,
     "status": "pending"
    },
    "tags": []
   },
   "outputs": [],
   "source": [
    "!git push"
   ]
  }
 ],
 "metadata": {
  "kernelspec": {
   "display_name": "Python 3 (ipykernel)",
   "language": "python",
   "name": "python3"
  },
  "language_info": {
   "codemirror_mode": {
    "name": "ipython",
    "version": 3
   },
   "file_extension": ".py",
   "mimetype": "text/x-python",
   "name": "python",
   "nbconvert_exporter": "python",
   "pygments_lexer": "ipython3",
   "version": "3.9.16"
  },
  "papermill": {
   "default_parameters": {},
   "duration": null,
   "end_time": null,
   "environment_variables": {},
   "exception": null,
   "input_path": "/home/jupyter/pet_disease/notebook/2.load_eyes_model.ipynb",
   "output_path": "/home/jupyter/pet_disease/notebook/2.load_eyes_model.ipynb",
   "parameters": {},
   "start_time": "2023-05-02T07:34:58.703314",
   "version": "2.4.0"
  }
 },
 "nbformat": 4,
 "nbformat_minor": 5
}