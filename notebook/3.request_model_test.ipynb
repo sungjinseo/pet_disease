{
 "cells": [
  {
   "cell_type": "code",
   "execution_count": null,
   "id": "ca128e74-f98f-4d04-931e-a22efd646a41",
   "metadata": {},
   "outputs": [],
   "source": [
    "import io\n",
    "import base64\n",
    "import requests\n",
    "from PIL import Image\n",
    "\n",
    "# FastAPI URL\n",
    "url = \"http://localhost:5000/image\"\n",
    "# 요청\n",
    "result = requests.get(url)\n",
    "# 딕셔너리 변환\n",
    "res = json.loads(result.content)\n",
    "# 이미지 Bytes 리스트\n",
    "bytes_list = list(map(lambda x: base64.b64decode(x), res))\n",
    "# 이미지 Pillow Image 리스트\n",
    "image_list = list(map(lambda x: Image.open(io.BytesIO(x)), bytes_list))\n",
    "image_list[0]"
   ]
  },
  {
   "cell_type": "code",
   "execution_count": null,
   "id": "971fcec4-9a30-4ce7-9977-53c40162a254",
   "metadata": {},
   "outputs": [],
   "source": [
    "from fastapi import APIRouter\n",
    "from fastapi.responses import JSONResponse\n",
    "from PIL import Image\n",
    "import requests\n",
    "import base64\n",
    "import io\n",
    "\n",
    "router = APIRouter()\n",
    "\n",
    "def from_image_to_bytes(img):\n",
    "    \"\"\"\n",
    "    pillow image 객체를 bytes로 변환\n",
    "    \"\"\"\n",
    "    # Pillow 이미지 객체를 Bytes로 변환\n",
    "    imgByteArr = io.BytesIO()\n",
    "    img.save(imgByteArr, format=img.format)\n",
    "    imgByteArr = imgByteArr.getvalue()\n",
    "    # Base64로 Bytes를 인코딩\n",
    "    encoded = base64.b64encode(imgByteArr)\n",
    "    # Base64로 ascii로 디코딩\n",
    "    decoded = encoded.decode('ascii')\n",
    "    return decoded\n",
    "\n",
    "@router.get(\"/image/\")\n",
    "async def func():\n",
    "    # 이미지 주소\n",
    "    img_url = \"https://dimg.donga.com/ugc/CDB/WEEKLY/Article/5b/b3/22/85/5bb32285000ed2738de6.jpg\"\n",
    "    # 이미지 불러오기\n",
    "    img = Image.open(requests.get(img_url, stream=True).raw)\n",
    "    # 이미지 데이터 타입 변환\n",
    "    img_converted = from_image_to_bytes(img)\n",
    "    # 이미지 리스트 생성\n",
    "    img_list = [img_converted, img_converted]\n",
    "    return JSONResponse(img_list)"
   ]
  }
 ],
 "metadata": {
  "kernelspec": {
   "display_name": "Python 3 (ipykernel)",
   "language": "python",
   "name": "python3"
  },
  "language_info": {
   "codemirror_mode": {
    "name": "ipython",
    "version": 3
   },
   "file_extension": ".py",
   "mimetype": "text/x-python",
   "name": "python",
   "nbconvert_exporter": "python",
   "pygments_lexer": "ipython3",
   "version": "3.9.16"
  }
 },
 "nbformat": 4,
 "nbformat_minor": 5
}
