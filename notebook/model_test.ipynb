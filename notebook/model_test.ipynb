{
 "cells": [
  {
   "cell_type": "code",
   "execution_count": 1,
   "id": "6a89bca5-09c9-4e88-9c87-cb0fd13523c2",
   "metadata": {
    "tags": []
   },
   "outputs": [],
   "source": [
    "import torch\n",
    "import torch.nn as nn\n",
    "\n",
    "class BasicBlock(nn.Module):\n",
    "    def __init__(self, in_channels, out_channels, kernel_size=3):\n",
    "        super(BasicBlock, self).__init__()\n",
    "\n",
    "        # 1.합성곱층 정의\n",
    "        self.c1 = nn.Conv2d(in_channels, out_channels, kernel_size=kernel_size, padding=1)\n",
    "        self.c2 = nn.Conv2d(out_channels, out_channels, kernel_size=kernel_size, padding=1)\n",
    "\n",
    "        self.downsample = nn.Conv2d(in_channels, out_channels, kernel_size=1)\n",
    "\n",
    "        # 2.배치 정규화층 정의\n",
    "        self.bn1 = nn.BatchNorm2d(num_features=out_channels)\n",
    "        self.bn2 = nn.BatchNorm2d(num_features=out_channels)\n",
    "\n",
    "        self.relu = nn.ReLU()\n",
    "        \n",
    "    def forward(self, x):\n",
    "        # 3.스킵 커넥션을 위해 초기 입력을 저장\n",
    "        x_ = x\n",
    "\n",
    "        x = self.c1(x)\n",
    "        x = self.bn1(x)\n",
    "        x = self.relu(x)\n",
    "        x = self.c2(x)\n",
    "        x = self.bn2(x)\n",
    "\n",
    "        # 4.합성곱의 결과와 입력의 채널 수를 맞춤\n",
    "        x_ = self.downsample(x_)\n",
    "\n",
    "        # 5.합성곱층의 결과와 저장해놨던 입력값을 더해줌\n",
    "        x += x_\n",
    "        x = self.relu(x)\n",
    "\n",
    "        return x\n",
    "\n",
    "class ResNet(nn.Module):\n",
    "    def __init__(self, num_classes=10):\n",
    "        super(ResNet, self).__init__()\n",
    "\n",
    "        #Output Size = (W - F + 2P) / S + 1\n",
    "        #W: input_volume_size\n",
    "        #F: kernel_size\n",
    "        #P: padding_size\n",
    "        #S: strides\n",
    "        #nn.Conv2d(in_channels=3, out_channels=32, kernel=3, padding=1)\n",
    "        #output_size = (32 - 3 + 2*1) / 1 + 1 = 32\n",
    "\n",
    "        # ❶ 기본 블록\n",
    "        # 기본 입력이 RGB인 3채널\n",
    "        self.b1 = BasicBlock(in_channels=3, out_channels=64)\n",
    "        self.b2 = BasicBlock(in_channels=64, out_channels=128)\n",
    "        self.b3 = BasicBlock(in_channels=128, out_channels=256)\n",
    "\n",
    "\n",
    "        # ❷ 풀링을 최댓값이 아닌 평균값으로\n",
    "        # maxpooling=2\n",
    "        #input_filter_size/2 = output_filter_size\n",
    "        self.pool = nn.AvgPool2d(kernel_size=2, stride=2)\n",
    "        \n",
    "        # ❸ 분류기  MLP\n",
    "        # 4 * 4* 256\n",
    "        # out_feature * kerner\n",
    "        # (batchsize/2) * imgsize\n",
    "        # 4 * 224 * 224\n",
    "        #self.fc1 = nn.Linear(in_features= 4 * 128 * 128, out_features=2048)\n",
    "        self.fc1 = nn.Linear(in_features=4 * 64 * 64, out_features=2048)\n",
    "        self.fc2 = nn.Linear(in_features=2048, out_features=128)\n",
    "        self.fc3 = nn.Linear(in_features=128, out_features=num_classes)\n",
    "\n",
    "        self.relu = nn.ReLU()\n",
    "    def forward(self, x):\n",
    "        \n",
    "        # 1. 기본 블록과 풀링층을 통과\n",
    "        x = self.b1(x)\n",
    "        x = self.pool(x)\n",
    "        x = self.b2(x)\n",
    "        x = self.pool(x)\n",
    "        x = self.b3(x)\n",
    "        x = self.pool(x)\n",
    "\n",
    "\n",
    "        # ❷ 분류기의 입력으로 사용하기 위해 flatten\n",
    "        x = torch.flatten(x, start_dim=1)\n",
    "\n",
    "        # ❸ 분류기로 예측값 출력\n",
    "        x = self.fc1(x)\n",
    "        x = self.relu(x)\n",
    "        x = self.fc2(x)\n",
    "        x = self.relu(x)\n",
    "        x = self.fc3(x)\n",
    "\n",
    "        return x"
   ]
  },
  {
   "cell_type": "code",
   "execution_count": 2,
   "id": "5be9cac7-2a67-4af6-93b3-41236ccdb6d1",
   "metadata": {
    "tags": []
   },
   "outputs": [],
   "source": [
    "import PIL\n",
    "from PIL import Image\n",
    "import numpy as np\n",
    "\n",
    "import torch\n",
    "from torchvision import transforms\n",
    "from torch.utils.data import DataLoader\n",
    "# 이미지 폴더로부터 데이터를 로드합니다.\n"
   ]
  },
  {
   "cell_type": "code",
   "execution_count": 4,
   "id": "6623542e-8240-4fa1-b5b9-4677ca9b5c12",
   "metadata": {
    "tags": []
   },
   "outputs": [
    {
     "data": {
      "text/plain": [
       "<All keys matched successfully>"
      ]
     },
     "execution_count": 4,
     "metadata": {},
     "output_type": "execute_result"
    }
   ],
   "source": [
    "device = \"cuda\" if torch.cuda.is_available() else \"cpu\"\n",
    "model = ResNet(num_classes=11)\n",
    "model.load_state_dict(torch.load('checkpoint.pt', map_location=device))"
   ]
  },
  {
   "cell_type": "code",
   "execution_count": 5,
   "id": "a0adbfa1-837e-4f99-85db-d186eb3efe92",
   "metadata": {
    "tags": []
   },
   "outputs": [],
   "source": [
    "img = Image.open(\"crop_D0_0a0d137d-60a5-11ec-8402-0a7404972c70.png\")\n",
    "tensor_img = to_tensor(img)"
   ]
  },
  {
   "cell_type": "code",
   "execution_count": 6,
   "id": "657f713b-263a-4cb0-859d-a2f1db6bf1a4",
   "metadata": {
    "tags": []
   },
   "outputs": [],
   "source": [
    "with open('classes.txt') as f:\n",
    "    labels = [line.strip() for line in f.readlines()]"
   ]
  },
  {
   "cell_type": "code",
   "execution_count": 7,
   "id": "10a253b4-2470-4136-ac42-4c2ef84abaf6",
   "metadata": {
    "tags": []
   },
   "outputs": [
    {
     "name": "stdout",
     "output_type": "stream",
     "text": [
      "[('안검내반증', 81.6102066040039), ('유루증', 18.23026466369629), ('궤양성각막질환', 0.12759654223918915), ('정상', 0.017757980152964592), ('결막염', 0.004846910946071148)]\n"
     ]
    }
   ],
   "source": [
    "\n",
    "model.eval()\n",
    "with torch.no_grad():\n",
    "    output = model(torch.unsqueeze(tensor_img, 0))\n",
    "    percentage = torch.nn.functional.softmax(output, dim=1)[0] * 100\n",
    "\n",
    "    _, indices = torch.sort(output, descending=True)\n",
    "    print([(labels[idx], percentage[idx].item()) for idx in indices[0][:5]])"
   ]
  }
 ],
 "metadata": {
  "kernelspec": {
   "display_name": "Python 3 (ipykernel)",
   "language": "python",
   "name": "python3"
  },
  "language_info": {
   "codemirror_mode": {
    "name": "ipython",
    "version": 3
   },
   "file_extension": ".py",
   "mimetype": "text/x-python",
   "name": "python",
   "nbconvert_exporter": "python",
   "pygments_lexer": "ipython3",
   "version": "3.9.16"
  }
 },
 "nbformat": 4,
 "nbformat_minor": 5
}
